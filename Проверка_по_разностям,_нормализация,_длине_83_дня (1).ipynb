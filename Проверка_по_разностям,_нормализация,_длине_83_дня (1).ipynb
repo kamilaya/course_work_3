{
 "cells": [
  {
   "cell_type": "code",
   "execution_count": 1,
   "id": "f8cf3839",
   "metadata": {},
   "outputs": [],
   "source": [
    "import os\n",
    "import numpy as np\n",
    "import pandas as pd\n",
    "import matplotlib.pyplot as plt\n",
    "import random\n",
    "import math\n",
    "\n",
    "from statsmodels.tsa.stattools import adfuller\n",
    "\n",
    "from joblib import Parallel, delayed\n",
    "from sklearn import preprocessing\n",
    "\n",
    "from scipy.signal import argrelextrema\n",
    "from datetime import datetime\n",
    "import shutil\n",
    "\n",
    "from collections import Counter\n",
    "from scipy import stats\n",
    "import statistics\n",
    "\n",
    "from sklearn.preprocessing import MinMaxScaler"
   ]
  },
  {
   "cell_type": "code",
   "execution_count": 4,
   "id": "af3712c8",
   "metadata": {},
   "outputs": [],
   "source": [
    "total_path =  'C:\\\\Users\\\\Алексей\\\\Магистратура ФТИАД\\\\Курсовая\\\\Данные\\\\Дневные'\n",
    "\n",
    "ts_path = total_path + '\\\\Train_and_Test-1\\\\TS (все)'\n",
    "save_path = total_path + '\\\\Train_and_Test-1\\\\TS (приращения)'"
   ]
  },
  {
   "cell_type": "code",
   "execution_count": 5,
   "id": "b4167bb8",
   "metadata": {},
   "outputs": [],
   "source": [
    "os.chdir(total_path)"
   ]
  },
  {
   "cell_type": "code",
   "execution_count": 7,
   "id": "94dfb012",
   "metadata": {},
   "outputs": [],
   "source": [
    "def check_ts(ticker):\n",
    "    # функция проверки приращений\n",
    "    \n",
    "    res_df = pd.DataFrame()\n",
    "    ticker_name = ticker\n",
    "    res = {}\n",
    "    res['Ticker'] = ticker_name[:-5]\n",
    "    ts_df = pd.read_excel(ts_path+'\\\\'+ticker_name)\n",
    "    ts_df = ts_df[['Date','Adj Close']]\n",
    "    diff_ts_df = ts_df.diff(periods=1).dropna()\n",
    "\n",
    "    if all([i > 0 for i in list(diff_ts_df['Adj Close'])]):\n",
    "        res['Результат'] = 'все приращения положительные'\n",
    "        res_df = res_df.append(res, ignore_index = True)\n",
    "    elif all([i < 0 for i in list(diff_ts_df['Adj Close'])]):\n",
    "        res['Результат'] = 'все приращения отрицательные'\n",
    "        res_df = res_df.append(res, ignore_index = True)\n",
    "    else:\n",
    "        res['Результат'] = 'есть и положительные, и отрицательные приращения'\n",
    "        res_df = res_df.append(res, ignore_index = True)\n",
    "        ts_df.to_csv(ticker_name[:-5]+'.csv', index = False)\n",
    "        file_name = ticker_name[:-5]+'.csv'\n",
    "        os.replace(total_path + '\\\\'+  file_name, save_path + '\\\\'+  file_name)\n",
    "    return res"
   ]
  },
  {
   "cell_type": "code",
   "execution_count": 8,
   "id": "ec016535",
   "metadata": {},
   "outputs": [],
   "source": [
    "def find_extremums(me, num_points):\n",
    "    \n",
    "    # функция ищет точки смены тренда для конкретного временного ряда file. Принимает: \n",
    "    # me - ряд.\n",
    "    # num_points - число точек, которые отступаем от экстремума для удаления шума \n",
    "    # Возвращает: индексы точек и значения ряда в них.\n",
    "    left = me[0]\n",
    "    right = me[-1]\n",
    "    \n",
    "    idx_minimas = argrelextrema(me, np.less_equal, order=num_points)[0]\n",
    "    idx_maximas = argrelextrema(me, np.greater_equal, order = num_points)[0]\n",
    "    idx = list(np.sort(np.concatenate((idx_minimas, idx_maximas))))\n",
    "    list_exterem = list(me[idx])\n",
    "    \n",
    "    if left in list_exterem:\n",
    "        idx_l = list_exterem.index(left)\n",
    "        list_exterem.remove(left)\n",
    "        del idx[idx_l]\n",
    "        \n",
    "    if right in list_exterem:\n",
    "        idx_r = list_exterem.index(right)\n",
    "        list_exterem.remove(right)\n",
    "        del idx[idx_r]\n",
    "        \n",
    "    return {'extrem_index': idx, 'extrem_value': list_exterem}"
   ]
  },
  {
   "cell_type": "code",
   "execution_count": 7,
   "id": "716eef8e",
   "metadata": {},
   "outputs": [],
   "source": [
    "def cacl_extrem_for_one_ticker(ticker, noise_size):\n",
    "        \n",
    "        # читает тикер, возвращает список экстремумов со значением ряда в этих точках.\n",
    "        \n",
    "        ts_df = pd.read_csv(ts_path+'\\\\'+ticker)\n",
    "        extrem_dict = find_extremums(np.array(ts_df['Adj Close']), noise_size)\n",
    "        res_df = ts_df[ts_df.index.isin(extrem_dict['extrem_index'])]\n",
    "        res_df = res_df.reset_index()\n",
    "        res_df['Ticker'] = ticker[:-4]\n",
    "        res_df = res_df[['Ticker','Date','index','Adj Close']]\n",
    "        res_df['Value'] = res_df['Adj Close']\n",
    "        del res_df['Adj Close']\n",
    "        \n",
    "        if len(res_df) == 0:\n",
    "            res_df = res_df.append({'Ticker': ticker},ignore_index=True)\n",
    "        return res_df"
   ]
  },
  {
   "cell_type": "code",
   "execution_count": 9,
   "id": "afb80d42",
   "metadata": {},
   "outputs": [],
   "source": [
    "def split_list(df_list, sub_size):\n",
    "    n_parts = math.ceil(len(df_list)/sub_size)\n",
    "    res = []\n",
    "    res.append(df_list[:sub_size])\n",
    "    for i in range(1, n_parts - 1):\n",
    "        res.append(df_list[sub_size*i:sub_size*(i+1)])\n",
    "\n",
    "    res.append(df_list[sub_size*(i+1):])\n",
    "\n",
    "    return res"
   ]
  },
  {
   "cell_type": "code",
   "execution_count": null,
   "id": "d394434c",
   "metadata": {},
   "outputs": [],
   "source": []
  },
  {
   "cell_type": "code",
   "execution_count": null,
   "id": "5ce86c6d",
   "metadata": {},
   "outputs": [],
   "source": []
  },
  {
   "cell_type": "code",
   "execution_count": null,
   "id": "26f807bb",
   "metadata": {},
   "outputs": [],
   "source": []
  },
  {
   "cell_type": "markdown",
   "id": "4e0e2287",
   "metadata": {},
   "source": [
    "#### проверка по приращениям"
   ]
  },
  {
   "cell_type": "code",
   "execution_count": 6,
   "id": "efc701bd",
   "metadata": {},
   "outputs": [],
   "source": [
    "dir_list = os.listdir(ts_path)"
   ]
  },
  {
   "cell_type": "code",
   "execution_count": 6,
   "id": "46f66e0b",
   "metadata": {},
   "outputs": [
    {
     "name": "stdout",
     "output_type": "stream",
     "text": [
      "Wall time: 15h 39min 32s\n"
     ]
    }
   ],
   "source": [
    "%%time\n",
    "total_res = Parallel(n_jobs=4)(delayed(check_ts)(j) for j in dir_list)"
   ]
  },
  {
   "cell_type": "code",
   "execution_count": 7,
   "id": "c5f88e6b",
   "metadata": {},
   "outputs": [],
   "source": [
    "total_res_df = pd.DataFrame(columns = ['Ticker', 'Результат'])\n",
    "for i in total_res:\n",
    "    total_res_df = total_res_df.append(i, ignore_index=True)"
   ]
  },
  {
   "cell_type": "code",
   "execution_count": 8,
   "id": "2cbcb4d2",
   "metadata": {},
   "outputs": [],
   "source": [
    "total_res_df.to_excel('Статистика по приращениям Train_Test_1.xlsx', index = False)"
   ]
  },
  {
   "cell_type": "markdown",
   "id": "87cf5f63",
   "metadata": {},
   "source": [
    "#### проверим на Nan"
   ]
  },
  {
   "cell_type": "code",
   "execution_count": 9,
   "id": "f1b1ea18",
   "metadata": {},
   "outputs": [],
   "source": [
    "ts_path = total_path + '\\\\Train_and_Test-1\\\\TS (приращения)'\n",
    "save_path = total_path + '\\\\Train_and_Test-1\\\\TS (приращения, нормализация)'"
   ]
  },
  {
   "cell_type": "code",
   "execution_count": 10,
   "id": "757b46eb",
   "metadata": {},
   "outputs": [],
   "source": [
    "dir_list = os.listdir(ts_path)\n",
    "interr_list = []"
   ]
  },
  {
   "cell_type": "code",
   "execution_count": 13,
   "id": "5c48ac72",
   "metadata": {},
   "outputs": [
    {
     "name": "stdout",
     "output_type": "stream",
     "text": [
      "Wall time: 24min 27s\n"
     ]
    }
   ],
   "source": [
    "%%time\n",
    "for j in dir_list:\n",
    "        ts_df = pd.read_csv(ts_path+'\\\\'+j)\n",
    "#         ts_df = clear_from_NaN(ts_df)\n",
    "#         result = {}\n",
    "        if ts_df.isnull().sum()[1] > 0:\n",
    "            print(j)\n",
    "            interr_list.append(j)"
   ]
  },
  {
   "cell_type": "markdown",
   "id": "816131ed",
   "metadata": {},
   "source": [
    "#### пусто, найдем экстремумы"
   ]
  },
  {
   "cell_type": "code",
   "execution_count": 153,
   "id": "4c97ddee",
   "metadata": {},
   "outputs": [],
   "source": [
    "ts_path = total_path + '\\\\Train_and_Test-1\\\\TS (приращения)'\n",
    "dir_list = os.listdir(ts_path)"
   ]
  },
  {
   "cell_type": "code",
   "execution_count": 17,
   "id": "88ebb18c",
   "metadata": {},
   "outputs": [],
   "source": [
    "noise_size = 83 # число дней для подавления шума"
   ]
  },
  {
   "cell_type": "code",
   "execution_count": 11,
   "id": "6401c960",
   "metadata": {},
   "outputs": [
    {
     "name": "stdout",
     "output_type": "stream",
     "text": [
      "Wall time: 20min 31s\n"
     ]
    }
   ],
   "source": [
    "%%time\n",
    "total_res = Parallel(n_jobs=4)(delayed(cacl_extrem_for_one_ticker)(j, noise_size) for j in dir_list)"
   ]
  },
  {
   "cell_type": "code",
   "execution_count": 12,
   "id": "ec8c3449",
   "metadata": {},
   "outputs": [],
   "source": [
    "for i in total_res:\n",
    "    if len(i)==0:\n",
    "        print(i)"
   ]
  },
  {
   "cell_type": "code",
   "execution_count": 17,
   "id": "79fb584c",
   "metadata": {},
   "outputs": [],
   "source": [
    "def sub_func(res_list, num_of_part):\n",
    "    total_res_df = pd.DataFrame(columns = ['Ticker','Date','index','Value'])\n",
    "    for i in res_list:\n",
    "        total_res_df = total_res_df.append(i)\n",
    "    total_res_df.to_csv('part_'+str(num_of_part)+'.csv', index = False)    "
   ]
  },
  {
   "cell_type": "code",
   "execution_count": 18,
   "id": "91518577",
   "metadata": {},
   "outputs": [],
   "source": [
    "res_split = split_list(total_res, 2500)"
   ]
  },
  {
   "cell_type": "code",
   "execution_count": 19,
   "id": "6e7e6b06",
   "metadata": {},
   "outputs": [],
   "source": [
    "stop_flag = False\n",
    "for i in range(0,len(res_split)):\n",
    "    block = res_split[i]\n",
    "    for j in range(0,len(block)):\n",
    "        if (block[j].loc[0]['Ticker'] != total_res[i*2500+j].loc[0]['Ticker']):\n",
    "            print(total_res[k+j].loc[0]['Ticker'])\n",
    "            print(el[j].loc[0]['Ticker'])\n",
    "            print('?????????????????????????????????')\n",
    "            stop_flag = True\n",
    "            break\n",
    "    if stop_flag == True:\n",
    "        break"
   ]
  },
  {
   "cell_type": "code",
   "execution_count": 20,
   "id": "33cdb4b7",
   "metadata": {},
   "outputs": [],
   "source": [
    "a = 0\n",
    "for i in res_split:\n",
    "    a+=len(i)"
   ]
  },
  {
   "cell_type": "code",
   "execution_count": 21,
   "id": "a39f990d",
   "metadata": {},
   "outputs": [
    {
     "data": {
      "text/plain": [
       "True"
      ]
     },
     "execution_count": 21,
     "metadata": {},
     "output_type": "execute_result"
    }
   ],
   "source": [
    "a==len(total_res)"
   ]
  },
  {
   "cell_type": "code",
   "execution_count": 22,
   "id": "25f1e075",
   "metadata": {},
   "outputs": [
    {
     "data": {
      "text/plain": [
       "True"
      ]
     },
     "execution_count": 22,
     "metadata": {},
     "output_type": "execute_result"
    }
   ],
   "source": [
    "len(np.arange(0,51)) == len(res_split)"
   ]
  },
  {
   "cell_type": "code",
   "execution_count": 23,
   "id": "685c266c",
   "metadata": {},
   "outputs": [
    {
     "name": "stdout",
     "output_type": "stream",
     "text": [
      "Wall time: 7min 27s\n"
     ]
    },
    {
     "data": {
      "text/plain": [
       "[None,\n",
       " None,\n",
       " None,\n",
       " None,\n",
       " None,\n",
       " None,\n",
       " None,\n",
       " None,\n",
       " None,\n",
       " None,\n",
       " None,\n",
       " None,\n",
       " None,\n",
       " None,\n",
       " None,\n",
       " None,\n",
       " None,\n",
       " None,\n",
       " None,\n",
       " None,\n",
       " None,\n",
       " None,\n",
       " None,\n",
       " None,\n",
       " None,\n",
       " None,\n",
       " None,\n",
       " None,\n",
       " None,\n",
       " None,\n",
       " None,\n",
       " None,\n",
       " None,\n",
       " None,\n",
       " None,\n",
       " None,\n",
       " None,\n",
       " None,\n",
       " None,\n",
       " None,\n",
       " None,\n",
       " None,\n",
       " None,\n",
       " None,\n",
       " None,\n",
       " None,\n",
       " None,\n",
       " None,\n",
       " None,\n",
       " None,\n",
       " None]"
      ]
     },
     "execution_count": 23,
     "metadata": {},
     "output_type": "execute_result"
    }
   ],
   "source": [
    "%%time\n",
    "os.chdir(total_path)\n",
    "os.mkdir('sub_folder') # раскомменть, если папки нет\n",
    "os.chdir(total_path + '\\\\sub_folder')\n",
    "\n",
    "Parallel(n_jobs=4)(delayed(sub_func)(res_split[j], j) for j in range(0,51))"
   ]
  },
  {
   "cell_type": "markdown",
   "id": "1a160460",
   "metadata": {},
   "source": [
    "#### очистим от ступенчатости"
   ]
  },
  {
   "cell_type": "code",
   "execution_count": 25,
   "id": "969a7860",
   "metadata": {},
   "outputs": [
    {
     "name": "stderr",
     "output_type": "stream",
     "text": [
      "C:\\Users\\CD86~1\\AppData\\Local\\Temp/ipykernel_9480/2137636852.py:8: SettingWithCopyWarning: \n",
      "A value is trying to be set on a copy of a slice from a DataFrame.\n",
      "Try using .loc[row_indexer,col_indexer] = value instead\n",
      "\n",
      "See the caveats in the documentation: https://pandas.pydata.org/pandas-docs/stable/user_guide/indexing.html#returning-a-view-versus-a-copy\n",
      "  sub_df['Value-1'] = sub_df['Value'].shift(1)\n",
      "C:\\Users\\CD86~1\\AppData\\Local\\Temp/ipykernel_9480/2137636852.py:9: SettingWithCopyWarning: \n",
      "A value is trying to be set on a copy of a slice from a DataFrame.\n",
      "Try using .loc[row_indexer,col_indexer] = value instead\n",
      "\n",
      "See the caveats in the documentation: https://pandas.pydata.org/pandas-docs/stable/user_guide/indexing.html#returning-a-view-versus-a-copy\n",
      "  sub_df['Diff']= sub_df['Value'] - sub_df['Value-1']\n"
     ]
    }
   ],
   "source": [
    "os.chdir(total_path + '\\\\sub_folder')\n",
    "for i in range(0,51):\n",
    "    df = pd.read_csv('part_'+str(i)+'.csv')\n",
    "    tickers_sublist = list(df['Ticker'].unique())\n",
    "    corr_tickers = []\n",
    "    for j in tickers_sublist:\n",
    "        sub_df = df[df['Ticker']==j]\n",
    "        sub_df['Value-1'] = sub_df['Value'].shift(1)\n",
    "        sub_df['Diff']= sub_df['Value'] - sub_df['Value-1']\n",
    "        if all(sub_df['Diff']!=0):\n",
    "            corr_tickers.append(j)\n",
    "\n",
    "    df = df[df['Ticker'].isin(corr_tickers)]\n",
    "#     del df['Unnamed: 0']\n",
    "    df.to_csv('part_'+str(i)+'_clear.csv', index = False)"
   ]
  },
  {
   "cell_type": "code",
   "execution_count": 31,
   "id": "2ee6dc17",
   "metadata": {},
   "outputs": [
    {
     "name": "stderr",
     "output_type": "stream",
     "text": [
      "<timed exec>:11: SettingWithCopyWarning: \n",
      "A value is trying to be set on a copy of a slice from a DataFrame.\n",
      "Try using .loc[row_indexer,col_indexer] = value instead\n",
      "\n",
      "See the caveats in the documentation: https://pandas.pydata.org/pandas-docs/stable/user_guide/indexing.html#returning-a-view-versus-a-copy\n",
      "<timed exec>:12: SettingWithCopyWarning: \n",
      "A value is trying to be set on a copy of a slice from a DataFrame.\n",
      "Try using .loc[row_indexer,col_indexer] = value instead\n",
      "\n",
      "See the caveats in the documentation: https://pandas.pydata.org/pandas-docs/stable/user_guide/indexing.html#returning-a-view-versus-a-copy\n",
      "<timed exec>:13: SettingWithCopyWarning: \n",
      "A value is trying to be set on a copy of a slice from a DataFrame.\n",
      "Try using .loc[row_indexer,col_indexer] = value instead\n",
      "\n",
      "See the caveats in the documentation: https://pandas.pydata.org/pandas-docs/stable/user_guide/indexing.html#returning-a-view-versus-a-copy\n",
      "<timed exec>:17: SettingWithCopyWarning: \n",
      "A value is trying to be set on a copy of a slice from a DataFrame.\n",
      "Try using .loc[row_indexer,col_indexer] = value instead\n",
      "\n",
      "See the caveats in the documentation: https://pandas.pydata.org/pandas-docs/stable/user_guide/indexing.html#returning-a-view-versus-a-copy\n",
      "<timed exec>:18: SettingWithCopyWarning: \n",
      "A value is trying to be set on a copy of a slice from a DataFrame.\n",
      "Try using .loc[row_indexer,col_indexer] = value instead\n",
      "\n",
      "See the caveats in the documentation: https://pandas.pydata.org/pandas-docs/stable/user_guide/indexing.html#returning-a-view-versus-a-copy\n"
     ]
    },
    {
     "name": "stdout",
     "output_type": "stream",
     "text": [
      "Wall time: 1min 36s\n"
     ]
    }
   ],
   "source": [
    "%%time\n",
    "\n",
    "days_l_list = []\n",
    "index_l_list = []\n",
    "os.chdir(total_path + '\\\\sub_folder')\n",
    "for i in range(0,51):\n",
    "    df = pd.read_csv('part_'+str(i)+'_clear.csv')\n",
    "    df = df.dropna()\n",
    "    tickers_sublist = list(df['Ticker'].unique())\n",
    "    len_list = []\n",
    "    for j in tickers_sublist:\n",
    "        sub_df = df[df['Ticker']==j]\n",
    "        sub_df['Date'] = pd.to_datetime(sub_df['Date'])\n",
    "        sub_df['Date-1'] = sub_df['Date'].shift(1)\n",
    "        sub_df['Diff']= sub_df['Date'] - sub_df['Date-1']\n",
    "\n",
    "        days_l = list(sub_df['Diff'].dropna().dt.days)\n",
    "\n",
    "        sub_df['index-1'] = sub_df['index'].shift(1)\n",
    "        sub_df['Diff']= sub_df['index'] - sub_df['index-1']\n",
    "\n",
    "        index_l = list(sub_df['Diff'].dropna())\n",
    "        days_l_list.append(days_l)\n",
    "        index_l_list.append(index_l)"
   ]
  },
  {
   "cell_type": "markdown",
   "id": "a5c92fdd",
   "metadata": {},
   "source": [
    "#### построим статистику по длинам трендов (по индексу ряда и по каледарным дням)"
   ]
  },
  {
   "cell_type": "code",
   "execution_count": 63,
   "id": "2ea99b65",
   "metadata": {},
   "outputs": [],
   "source": [
    "days_l_list_full = []\n",
    "for i in days_l_list:\n",
    "    days_l_list_full = days_l_list_full + i\n",
    "    \n",
    "index_l_list_full = []\n",
    "for i in index_l_list:\n",
    "    index_l_list_full  = index_l_list_full + i"
   ]
  },
  {
   "cell_type": "code",
   "execution_count": 64,
   "id": "54324357",
   "metadata": {},
   "outputs": [
    {
     "data": {
      "text/plain": [
       "True"
      ]
     },
     "execution_count": 64,
     "metadata": {},
     "output_type": "execute_result"
    }
   ],
   "source": [
    "total_n = len(days_l_list_full)\n",
    "\n",
    "len(days_l_list_full) == len(index_l_list_full)"
   ]
  },
  {
   "cell_type": "code",
   "execution_count": 65,
   "id": "f1177a3d",
   "metadata": {},
   "outputs": [],
   "source": [
    "n = 5"
   ]
  },
  {
   "cell_type": "code",
   "execution_count": 66,
   "id": "bea2029e",
   "metadata": {},
   "outputs": [],
   "source": [
    "index_l_list_full_short = [i for i in index_l_list_full if i <800]\n",
    "days_l_list_full_short = [i for i in days_l_list_full if i <800]"
   ]
  },
  {
   "cell_type": "code",
   "execution_count": 67,
   "id": "6b68dfe8",
   "metadata": {},
   "outputs": [],
   "source": [
    "index_l_list_full_short = [n * round(i/n) for i in index_l_list_full_short]\n",
    "days_l_list_full_short= [n * round(i/n) for i in days_l_list_full_short]\n"
   ]
  },
  {
   "cell_type": "code",
   "execution_count": 151,
   "id": "c6cdf7a4",
   "metadata": {
    "scrolled": false
   },
   "outputs": [
    {
     "name": "stdout",
     "output_type": "stream",
     "text": [
      "Статистика по индексу TS:\n",
      "10 квантиль = 36.0\n",
      "25 квантиль = 64.0\n",
      "медиана = 107.0\n",
      "75 квантиль = 168.0\n",
      "80 квантиль = 191.0\n",
      "Всего образцов трендов 352236\n",
      "2 квантиль = 21.0\n"
     ]
    },
    {
     "data": {
      "image/png": "[encoded data removed]",
      "text/plain": [
       "<Figure size 1440x576 with 1 Axes>"
      ]
     },
     "metadata": {
      "needs_background": "light"
     },
     "output_type": "display_data"
    }
   ],
   "source": [
    "c = Counter(index_l_list_full_short)\n",
    "\n",
    "x = list(c.keys())\n",
    "y = list(c.values())\n",
    "\n",
    "median = statistics.median(index_l_list_full)\n",
    "line_25 = np.quantile(index_l_list_full, 0.25)\n",
    "line_75 = np.quantile(index_l_list_full, 0.75)\n",
    "line_80 = np.quantile(index_l_list_full, 0.8)\n",
    "line_10 = np.quantile(index_l_list_full, 0.1)\n",
    "line_04 = np.quantile(index_l_list_full, 0.04)\n",
    "\n",
    "plt.figure(figsize=(20,8))\n",
    "plt.bar(x,y, width= 4)\n",
    "plt.axvline(x=median, c = 'black')\n",
    "plt.axvline(x=line_25, c = 'green')\n",
    "plt.axvline(x=line_75, c = 'green')\n",
    "plt.axvline(x=line_80, c = 'red')\n",
    "plt.axvline(x=line_10, c = 'red')\n",
    "\n",
    "print('Статистика по индексу TS:')\n",
    "print('10 квантиль = '+str(line_10) )\n",
    "print('25 квантиль = '+str(line_25) )\n",
    "print('медиана = '+str(median) )\n",
    "print('75 квантиль = '+str(line_75) )\n",
    "print('80 квантиль = '+str(line_80) )\n",
    "print('Всего образцов трендов '+str(total_n))\n",
    "\n",
    "\n",
    "print('2 квантиль = '+str(line_02) )"
   ]
  },
  {
   "cell_type": "code",
   "execution_count": 74,
   "id": "3960c0a1",
   "metadata": {},
   "outputs": [
    {
     "name": "stdout",
     "output_type": "stream",
     "text": [
      "Статистика по дням:\n",
      "10 квантиль = 53.0\n",
      "25 квантиль = 93.0\n",
      "медиана = 157.0\n",
      "75 квантиль = 251.0\n",
      "80 квантиль = 286.0\n",
      "Всего образцов 352236\n"
     ]
    },
    {
     "data": {
      "image/png": "[encoded data removed]",
      "text/plain": [
       "<Figure size 1440x576 with 1 Axes>"
      ]
     },
     "metadata": {
      "needs_background": "light"
     },
     "output_type": "display_data"
    }
   ],
   "source": [
    "c = Counter(days_l_list_full_short)\n",
    "\n",
    "x = list(c.keys())\n",
    "y = list(c.values())\n",
    "\n",
    "median = statistics.median(days_l_list_full )\n",
    "line_25 = np.quantile(days_l_list_full , 0.25)\n",
    "line_75 = np.quantile(days_l_list_full , 0.75)\n",
    "line_80 = np.quantile(days_l_list_full , 0.8)\n",
    "line_10 = np.quantile(days_l_list_full , 0.1)\n",
    "\n",
    "plt.figure(figsize=(20,8))\n",
    "plt.bar(x,y, width= 4)\n",
    "plt.axvline(x=median, c = 'black')\n",
    "plt.axvline(x=line_25, c = 'green')\n",
    "plt.axvline(x=line_75, c = 'green')\n",
    "plt.axvline(x=line_80, c = 'red')\n",
    "plt.axvline(x=line_10, c = 'red')\n",
    "\n",
    "print('Статистика по дням:')\n",
    "print('10 квантиль = '+str(line_10) )\n",
    "print('25 квантиль = '+str(line_25) )\n",
    "print('медиана = '+str(median) )\n",
    "print('75 квантиль = '+str(line_75) )\n",
    "print('80 квантиль = '+str(line_80) )\n",
    "print('Всего образцов '+str(total_n))"
   ]
  },
  {
   "cell_type": "markdown",
   "id": "4fe7c6e9",
   "metadata": {},
   "source": [
    "#### собираем вместе\n",
    "дополнительно очистим от inf\n",
    "дополнительно удалим ряды с длиной меньше 20\n"
   ]
  },
  {
   "cell_type": "code",
   "execution_count": 160,
   "id": "a87567ad",
   "metadata": {},
   "outputs": [],
   "source": [
    "full_df = pd.DataFrame()\n",
    "os.chdir(total_path + '\\\\sub_folder')\n",
    "\n",
    "for i in range(0,51):\n",
    "#     print(i)\n",
    "    df = pd.read_csv('part_'+str(i)+'_clear.csv')\n",
    "    full_df = full_df.append(df)\n",
    "    \n",
    "full_df = full_df.dropna()\n",
    "\n",
    "full_ticker_list = list(full_df['Ticker'].unique())\n",
    "\n",
    "\n",
    "# отсечка по inf и длине\n",
    "delete_list = []\n",
    "for i in full_ticker_list:\n",
    "    df = pd.read_csv(ts_path +'\\\\'+i+'.csv')\n",
    "    if (len(df[df['Adj Close']==(-1*np.inf)])==0) and (len(df[df['Adj Close']==(np.inf)])==0) :    \n",
    "        if len(df) < 20:\n",
    "            delete_list.append(i)\n",
    "        else:\n",
    "            1==1\n",
    "    else:\n",
    "        delete_list.append(i)\n",
    "        \n",
    "\n",
    "for i in delete_list:\n",
    "    full_ticker_list.remove(i)\n",
    "    \n",
    "full_df = full_df[full_df['Ticker'].isin(full_ticker_list)]\n",
    "\n",
    "\n",
    "os.chdir(total_path)\n",
    "\n",
    "\n",
    "full_df.to_csv('full_extrem_list_('+str(noise_size)+').csv', index = False)"
   ]
  },
  {
   "cell_type": "code",
   "execution_count": 162,
   "id": "3c699f90",
   "metadata": {},
   "outputs": [
    {
     "data": {
      "text/plain": [
       "35287"
      ]
     },
     "execution_count": 162,
     "metadata": {},
     "output_type": "execute_result"
    }
   ],
   "source": [
    "len(full_ticker_list)"
   ]
  },
  {
   "cell_type": "code",
   "execution_count": 190,
   "id": "68486398",
   "metadata": {},
   "outputs": [
    {
     "data": {
      "text/html": [
       "<div>\n",
       "<style scoped>\n",
       "    .dataframe tbody tr th:only-of-type {\n",
       "        vertical-align: middle;\n",
       "    }\n",
       "\n",
       "    .dataframe tbody tr th {\n",
       "        vertical-align: top;\n",
       "    }\n",
       "\n",
       "    .dataframe thead th {\n",
       "        text-align: right;\n",
       "    }\n",
       "</style>\n",
       "<table border=\"1\" class=\"dataframe\">\n",
       "  <thead>\n",
       "    <tr style=\"text-align: right;\">\n",
       "      <th></th>\n",
       "      <th>Ticker</th>\n",
       "      <th>Date</th>\n",
       "      <th>index</th>\n",
       "      <th>Value</th>\n",
       "    </tr>\n",
       "  </thead>\n",
       "  <tbody>\n",
       "    <tr>\n",
       "      <th>0</th>\n",
       "      <td>000001.SS</td>\n",
       "      <td>1997-09-10</td>\n",
       "      <td>50.0</td>\n",
       "      <td>1256.041016</td>\n",
       "    </tr>\n",
       "    <tr>\n",
       "      <th>1</th>\n",
       "      <td>000001.SS</td>\n",
       "      <td>1997-09-23</td>\n",
       "      <td>59.0</td>\n",
       "      <td>1041.964966</td>\n",
       "    </tr>\n",
       "    <tr>\n",
       "      <th>2</th>\n",
       "      <td>000001.SS</td>\n",
       "      <td>1998-06-03</td>\n",
       "      <td>240.0</td>\n",
       "      <td>1420.000000</td>\n",
       "    </tr>\n",
       "    <tr>\n",
       "      <th>3</th>\n",
       "      <td>000001.SS</td>\n",
       "      <td>1998-08-17</td>\n",
       "      <td>293.0</td>\n",
       "      <td>1070.410034</td>\n",
       "    </tr>\n",
       "    <tr>\n",
       "      <th>4</th>\n",
       "      <td>000001.SS</td>\n",
       "      <td>1999-05-18</td>\n",
       "      <td>489.0</td>\n",
       "      <td>1059.874023</td>\n",
       "    </tr>\n",
       "    <tr>\n",
       "      <th>...</th>\n",
       "      <td>...</td>\n",
       "      <td>...</td>\n",
       "      <td>...</td>\n",
       "      <td>...</td>\n",
       "    </tr>\n",
       "    <tr>\n",
       "      <th>8697</th>\n",
       "      <td>^XTC</td>\n",
       "      <td>2020-02-20</td>\n",
       "      <td>6619.0</td>\n",
       "      <td>1325.410034</td>\n",
       "    </tr>\n",
       "    <tr>\n",
       "      <th>8698</th>\n",
       "      <td>^XTC</td>\n",
       "      <td>2020-03-23</td>\n",
       "      <td>6641.0</td>\n",
       "      <td>925.940002</td>\n",
       "    </tr>\n",
       "    <tr>\n",
       "      <th>8699</th>\n",
       "      <td>^XTC</td>\n",
       "      <td>2020-09-02</td>\n",
       "      <td>6755.0</td>\n",
       "      <td>1272.510010</td>\n",
       "    </tr>\n",
       "    <tr>\n",
       "      <th>8700</th>\n",
       "      <td>^XTC</td>\n",
       "      <td>2020-10-28</td>\n",
       "      <td>6794.0</td>\n",
       "      <td>1111.930054</td>\n",
       "    </tr>\n",
       "    <tr>\n",
       "      <th>8701</th>\n",
       "      <td>^XTC</td>\n",
       "      <td>2021-05-10</td>\n",
       "      <td>6926.0</td>\n",
       "      <td>1407.270020</td>\n",
       "    </tr>\n",
       "  </tbody>\n",
       "</table>\n",
       "<p>383952 rows × 4 columns</p>\n",
       "</div>"
      ],
      "text/plain": [
       "         Ticker        Date   index        Value\n",
       "0     000001.SS  1997-09-10    50.0  1256.041016\n",
       "1     000001.SS  1997-09-23    59.0  1041.964966\n",
       "2     000001.SS  1998-06-03   240.0  1420.000000\n",
       "3     000001.SS  1998-08-17   293.0  1070.410034\n",
       "4     000001.SS  1999-05-18   489.0  1059.874023\n",
       "...         ...         ...     ...          ...\n",
       "8697       ^XTC  2020-02-20  6619.0  1325.410034\n",
       "8698       ^XTC  2020-03-23  6641.0   925.940002\n",
       "8699       ^XTC  2020-09-02  6755.0  1272.510010\n",
       "8700       ^XTC  2020-10-28  6794.0  1111.930054\n",
       "8701       ^XTC  2021-05-10  6926.0  1407.270020\n",
       "\n",
       "[383952 rows x 4 columns]"
      ]
     },
     "execution_count": 190,
     "metadata": {},
     "output_type": "execute_result"
    }
   ],
   "source": [
    "full_df"
   ]
  },
  {
   "cell_type": "markdown",
   "id": "a2badb19",
   "metadata": {},
   "source": [
    "копируем хорошие тикеры в новую папку"
   ]
  },
  {
   "cell_type": "code",
   "execution_count": 165,
   "id": "c94fdd79",
   "metadata": {},
   "outputs": [],
   "source": [
    "ts_path = total_path + '\\\\Train_and_Test-1\\\\TS (приращения)'\n",
    "ts_path = total_path + '\\\\Train_and_Test-1\\\\TS (приращения, ступенчатость, длина)'"
   ]
  },
  {
   "cell_type": "code",
   "execution_count": 166,
   "id": "65bb84a2",
   "metadata": {},
   "outputs": [],
   "source": [
    "for i in full_ticker_list:\n",
    "    shutil.copy(ts_path+'\\\\'+i+'.csv', save_path+'\\\\'+i+'.csv')"
   ]
  },
  {
   "cell_type": "code",
   "execution_count": 167,
   "id": "7527ed7e",
   "metadata": {},
   "outputs": [
    {
     "data": {
      "text/plain": [
       "35287"
      ]
     },
     "execution_count": 167,
     "metadata": {},
     "output_type": "execute_result"
    }
   ],
   "source": [
    "len(full_ticker_list)"
   ]
  },
  {
   "cell_type": "markdown",
   "id": "7b62094f",
   "metadata": {},
   "source": [
    "#### нормализация\n",
    "дополнительно очистим от inf (еще раз:))"
   ]
  },
  {
   "cell_type": "code",
   "execution_count": 196,
   "id": "656cc687",
   "metadata": {},
   "outputs": [],
   "source": [
    "ts_path = total_path + '\\\\Train_and_Test-1\\\\TS (приращения, ступенчатость, длина)'\n",
    "save_path = total_path + '\\\\Train_and_Test-1\\\\TS (приращения, ступенчатость, длина, нормализация)'"
   ]
  },
  {
   "cell_type": "code",
   "execution_count": 197,
   "id": "2e6365a7",
   "metadata": {},
   "outputs": [],
   "source": [
    "dir_list = os.listdir(ts_path)\n",
    "os.chdir(total_path)"
   ]
  },
  {
   "cell_type": "code",
   "execution_count": 198,
   "id": "da836284",
   "metadata": {},
   "outputs": [],
   "source": [
    "os.chdir(save_path)\n",
    "for i in dir_list:\n",
    "    df = pd.read_csv(ts_path +'\\\\'+i)\n",
    "    scaler = MinMaxScaler()\n",
    "    if (len(df[df['Adj Close']==(-1*np.inf)])==0) and (len(df[df['Adj Close']==(np.inf)])==0) :\n",
    "        df['Adj Close'] = scaler.fit_transform(np.array(df['Adj Close']).reshape(-1, 1))\n",
    "        df.to_csv(i, index = False)\n",
    "    else:\n",
    "        print(i)"
   ]
  },
  {
   "cell_type": "markdown",
   "id": "965128d6",
   "metadata": {},
   "source": [
    "#### оставим только акции"
   ]
  },
  {
   "cell_type": "code",
   "execution_count": 7,
   "id": "a1c112c6",
   "metadata": {},
   "outputs": [],
   "source": [
    "total_path =  'C:\\\\Users\\\\Алексей\\\\Магистратура ФТИАД\\\\Курсовая\\\\Данные\\\\Дневные'\n",
    "\n",
    "ts_path = total_path + '\\\\Train_and_Test-1\\\\TS (все)'\n",
    "save_path = total_path + '\\\\Train_and_Test-1\\\\TS (приращения)'\n",
    "ticker_path  =  'C:\\\\Users\\\\Алексей\\\\Магистратура ФТИАД\\\\Курсовая\\\\Данные\\\\Информация о тикерах'\n",
    "\n",
    "noise_size = 83"
   ]
  },
  {
   "cell_type": "code",
   "execution_count": 13,
   "id": "76dc0c52",
   "metadata": {},
   "outputs": [],
   "source": [
    "os.chdir(total_path)\n",
    "\n",
    "ticker_df =  pd.read_csv('full_extrem_list_('+str(noise_size)+').csv')\n",
    "info_df = pd.read_excel(ticker_path +'\\\\United_tickers_extended_info.xlsx')\n",
    "\n",
    "stock_tickers = list(info_df[info_df['TypeDisplay'] == 'Stock']['Ticker'])"
   ]
  },
  {
   "cell_type": "code",
   "execution_count": 16,
   "id": "39f6e688",
   "metadata": {},
   "outputs": [],
   "source": [
    "stock_df = ticker_df[ticker_df['Ticker'].isin(stock_tickers)]"
   ]
  },
  {
   "cell_type": "code",
   "execution_count": 17,
   "id": "2f9e114f",
   "metadata": {},
   "outputs": [],
   "source": [
    "stock_df.to_csv('full_extrem_list_('+str(noise_size)+')(Stock).csv', index = False)"
   ]
  },
  {
   "cell_type": "code",
   "execution_count": null,
   "id": "7726fa7e",
   "metadata": {},
   "outputs": [],
   "source": []
  },
  {
   "cell_type": "code",
   "execution_count": null,
   "id": "94b3bcf8",
   "metadata": {},
   "outputs": [],
   "source": []
  },
  {
   "cell_type": "code",
   "execution_count": 21,
   "id": "41d425a7",
   "metadata": {},
   "outputs": [],
   "source": [
    "ts_path = total_path + '\\\\Train_and_Test-1\\\\TS (приращения, ступенчатость, длина, нормализация)'\n",
    "save_path = total_path + '\\\\Train_and_Test-1\\\\TS (приращения, ступенчатость, длина, нормализация)(Stock)'"
   ]
  },
  {
   "cell_type": "code",
   "execution_count": 23,
   "id": "0b31e018",
   "metadata": {},
   "outputs": [],
   "source": [
    "stock_tickers = list(stock_df['Ticker'].unique())"
   ]
  },
  {
   "cell_type": "code",
   "execution_count": 24,
   "id": "ce055b1b",
   "metadata": {},
   "outputs": [],
   "source": [
    "for i in stock_tickers:\n",
    "    shutil.copy(ts_path+'\\\\'+i+'.csv', save_path+'\\\\'+i+'.csv')"
   ]
  },
  {
   "cell_type": "code",
   "execution_count": null,
   "id": "8326d9c8",
   "metadata": {},
   "outputs": [],
   "source": []
  }
 ],
 "metadata": {
  "kernelspec": {
   "display_name": "Python 3 (ipykernel)",
   "language": "python",
   "name": "python3"
  },
  "language_info": {
   "codemirror_mode": {
    "name": "ipython",
    "version": 3
   },
   "file_extension": ".py",
   "mimetype": "text/x-python",
   "name": "python",
   "nbconvert_exporter": "python",
   "pygments_lexer": "ipython3",
   "version": "3.8.12"
  }
 },
 "nbformat": 4,
 "nbformat_minor": 5
}
